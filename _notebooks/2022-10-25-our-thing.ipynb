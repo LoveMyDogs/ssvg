{
 "cells": [
  {
   "cell_type": "markdown",
   "metadata": {},
   "source": [
    "# Python Quiz Showcase\n",
    "\n",
    "- toc: true \n",
    "- badges: true\n",
    "- comments: true\n",
    "- description: Using my python quiz\n",
    "- categories: [python]\n",
    "- tags: [python]"
   ]
  },
  {
   "cell_type": "markdown",
   "metadata": {},
   "source": [
    "# Plans for this\n",
    "This is going to be our quiz template that, if we don't figure out how to have quiz questions on different pages, will use for the user. "
   ]
  },
  {
   "cell_type": "code",
   "execution_count": null,
   "metadata": {},
   "outputs": [],
   "source": [
    "import getpass, sys\n",
    "import random\n",
    "\n",
    "# This creates the function that I'll be using to create the quiz\n",
    "def question_and_answer(prompt):\n",
    "    print(\"Question: \" + prompt)\n",
    "    msg = input()\n",
    "    print(\"Answer: \" + msg)\n",
    "    \n",
    "def question_with_response(prompt):\n",
    "    print(\"Question: \" + prompt)\n",
    "    msg = input()\n",
    "    return msg\n",
    "\n",
    "# This creates the variables that will be used to calculate score\n",
    "questions = 5\n",
    "correct = 0\n",
    "\n",
    "# Introduces user to quiz\n",
    "print('Hello, ' + getpass.getuser() + \" running \" + sys.executable)\n",
    "print(\"You will be asked \" + str(questions) + \" questions.\")\n",
    "question_and_answer(\"Are you ready to take a test?\")\n",
    "\n",
    "# Starts quiz\n",
    "rsp = question_with_response(\"What is 9+9\")\n",
    "if rsp == \"18\":\n",
    "    print(rsp + \" is correct!\")\n",
    "    correct += 1\n",
    "else:\n",
    "    print(rsp + \" is incorrect!\")\n",
    "\n",
    "rsp = question_with_response(\"What is my favorite electronic device\")\n",
    "if rsp == \"computer\":\n",
    "    print(rsp + \" is correct!\")\n",
    "    correct += 1\n",
    "else:\n",
    "    print(rsp + \" is incorrect!\")\n",
    "\n",
    "rsp = question_with_response(\"Do you have any pets?\")\n",
    "if rsp == \"Yes\":\n",
    "    print(\"Yes? That's nice!\")\n",
    "    correct += 1\n",
    "else:\n",
    "    print(\"hrm, cool\")\n",
    "    correct += 1\n",
    "\n",
    "rsp = question_with_response(\"Is this a fun quiz?\")\n",
    "if rsp == \"no\":\n",
    "    print(rsp + \" is correct!\")\n",
    "    correct += 1\n",
    "else:\n",
    "    print(\"herm\")\n",
    "    correct += 1\n",
    "\n",
    "rsp = question_with_response(\"I'll let you go free now, are you enthused?\")\n",
    "if rsp == \"Yes\":\n",
    "    print(\"hee, rude\")\n",
    "    correct += 1\n",
    "else:\n",
    "    print(\"welp\")\n",
    "    correct += 1\n",
    "\n",
    "# Tells user their score\n",
    "print(getpass.getuser() + \" you scored \" + str(correct) +\"/\" + str(questions))"
   ]
  }
 ],
 "metadata": {
  "language_info": {
   "name": "python"
  },
  "orig_nbformat": 4
 },
 "nbformat": 4,
 "nbformat_minor": 2
}
